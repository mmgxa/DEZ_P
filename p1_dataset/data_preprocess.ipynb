{
 "cells": [
  {
   "cell_type": "markdown",
   "id": "9bf872e2",
   "metadata": {},
   "source": [
    "# Imports"
   ]
  },
  {
   "cell_type": "code",
   "execution_count": 1,
   "id": "885d2d00",
   "metadata": {},
   "outputs": [],
   "source": [
    "import pandas as pd\n",
    "import os"
   ]
  },
  {
   "cell_type": "markdown",
   "id": "e0f5cbdb",
   "metadata": {},
   "source": [
    "# Reading Data"
   ]
  },
  {
   "cell_type": "code",
   "execution_count": 2,
   "id": "8e9a7c55",
   "metadata": {},
   "outputs": [
    {
     "data": {
      "text/plain": [
       "Index(['invoice_and_item_number', 'date', 'store_number', 'store_name',\n",
       "       'address', 'city', 'zip_code', 'store_location', 'county_number',\n",
       "       'county', 'category', 'category_name', 'vendor_number', 'vendor_name',\n",
       "       'item_number', 'item_description', 'pack', 'bottle_volume_ml',\n",
       "       'state_bottle_cost', 'state_bottle_retail', 'bottles_sold',\n",
       "       'sale_dollars', 'volume_sold_liters', 'volume_sold_gallons'],\n",
       "      dtype='object')"
      ]
     },
     "execution_count": 2,
     "metadata": {},
     "output_type": "execute_result"
    }
   ],
   "source": [
    "df = pd.read_csv('sales.csv')\n",
    "cols = df.columns\n",
    "cols"
   ]
  },
  {
   "cell_type": "markdown",
   "id": "6704366f",
   "metadata": {},
   "source": [
    "# Exploratory Data Analysis"
   ]
  },
  {
   "cell_type": "code",
   "execution_count": 3,
   "id": "efe9b139",
   "metadata": {},
   "outputs": [
    {
     "name": "stdout",
     "output_type": "stream",
     "text": [
      "Total number of records: 2805307\n"
     ]
    }
   ],
   "source": [
    "print(f'Total number of records: {len(df)}')"
   ]
  },
  {
   "cell_type": "code",
   "execution_count": 4,
   "id": "45b152fd",
   "metadata": {},
   "outputs": [
    {
     "data": {
      "text/plain": [
       "invoice_and_item_number         0\n",
       "date                            0\n",
       "store_number                    0\n",
       "store_name                      0\n",
       "address                       142\n",
       "city                          142\n",
       "zip_code                      142\n",
       "store_location             330335\n",
       "county_number                 142\n",
       "county                        142\n",
       "category                        0\n",
       "category_name                   0\n",
       "vendor_number                   4\n",
       "vendor_name                     4\n",
       "item_number                     0\n",
       "item_description                0\n",
       "pack                            0\n",
       "bottle_volume_ml                0\n",
       "state_bottle_cost               0\n",
       "state_bottle_retail             0\n",
       "bottles_sold                    0\n",
       "sale_dollars                    0\n",
       "volume_sold_liters              0\n",
       "volume_sold_gallons             0\n",
       "dtype: int64"
      ]
     },
     "execution_count": 4,
     "metadata": {},
     "output_type": "execute_result"
    }
   ],
   "source": [
    "df.isnull().sum()"
   ]
  },
  {
   "cell_type": "markdown",
   "id": "1d5b0dca",
   "metadata": {},
   "source": [
    "## Remove Store Location"
   ]
  },
  {
   "cell_type": "markdown",
   "id": "6f10b79d",
   "metadata": {},
   "source": [
    "There are a lot of entries missing for the store locations. We are not interested in the exact store location anyways. The county is enough!"
   ]
  },
  {
   "cell_type": "code",
   "execution_count": 5,
   "id": "d534410f",
   "metadata": {},
   "outputs": [
    {
     "data": {
      "text/plain": [
       "Index(['invoice_and_item_number', 'date', 'store_number', 'store_name',\n",
       "       'address', 'city', 'zip_code', 'county_number', 'county', 'category',\n",
       "       'category_name', 'vendor_number', 'vendor_name', 'item_number',\n",
       "       'item_description', 'pack', 'bottle_volume_ml', 'state_bottle_cost',\n",
       "       'state_bottle_retail', 'bottles_sold', 'sale_dollars',\n",
       "       'volume_sold_liters', 'volume_sold_gallons'],\n",
       "      dtype='object')"
      ]
     },
     "execution_count": 5,
     "metadata": {},
     "output_type": "execute_result"
    }
   ],
   "source": [
    "df.drop('store_location', axis=1, inplace=True)\n",
    "cols = df.columns\n",
    "cols"
   ]
  },
  {
   "cell_type": "code",
   "execution_count": 6,
   "id": "25845503",
   "metadata": {},
   "outputs": [
    {
     "data": {
      "text/plain": [
       "invoice_and_item_number      0\n",
       "date                         0\n",
       "store_number                 0\n",
       "store_name                   0\n",
       "address                    142\n",
       "city                       142\n",
       "zip_code                   142\n",
       "county_number              142\n",
       "county                     142\n",
       "category                     0\n",
       "category_name                0\n",
       "vendor_number                4\n",
       "vendor_name                  4\n",
       "item_number                  0\n",
       "item_description             0\n",
       "pack                         0\n",
       "bottle_volume_ml             0\n",
       "state_bottle_cost            0\n",
       "state_bottle_retail          0\n",
       "bottles_sold                 0\n",
       "sale_dollars                 0\n",
       "volume_sold_liters           0\n",
       "volume_sold_gallons          0\n",
       "dtype: int64"
      ]
     },
     "execution_count": 6,
     "metadata": {},
     "output_type": "execute_result"
    }
   ],
   "source": [
    "df.isnull().sum()"
   ]
  },
  {
   "cell_type": "markdown",
   "id": "46de74ef",
   "metadata": {},
   "source": [
    "Still we have 142 missing values. Let's hope they 'overlap'!"
   ]
  },
  {
   "cell_type": "code",
   "execution_count": 7,
   "id": "c7276fb4",
   "metadata": {},
   "outputs": [],
   "source": [
    "df.dropna(inplace=True)"
   ]
  },
  {
   "cell_type": "code",
   "execution_count": 8,
   "id": "9a4aa758",
   "metadata": {},
   "outputs": [
    {
     "data": {
      "text/plain": [
       "invoice_and_item_number    0\n",
       "date                       0\n",
       "store_number               0\n",
       "store_name                 0\n",
       "address                    0\n",
       "city                       0\n",
       "zip_code                   0\n",
       "county_number              0\n",
       "county                     0\n",
       "category                   0\n",
       "category_name              0\n",
       "vendor_number              0\n",
       "vendor_name                0\n",
       "item_number                0\n",
       "item_description           0\n",
       "pack                       0\n",
       "bottle_volume_ml           0\n",
       "state_bottle_cost          0\n",
       "state_bottle_retail        0\n",
       "bottles_sold               0\n",
       "sale_dollars               0\n",
       "volume_sold_liters         0\n",
       "volume_sold_gallons        0\n",
       "dtype: int64"
      ]
     },
     "execution_count": 8,
     "metadata": {},
     "output_type": "execute_result"
    }
   ],
   "source": [
    "df.isnull().sum()"
   ]
  },
  {
   "cell_type": "markdown",
   "id": "22453624",
   "metadata": {},
   "source": [
    "Hurray! We don't have any more missing values..."
   ]
  },
  {
   "cell_type": "code",
   "execution_count": 9,
   "id": "d8b76c7f",
   "metadata": {},
   "outputs": [
    {
     "name": "stdout",
     "output_type": "stream",
     "text": [
      "Total number of records: 2805161\n"
     ]
    }
   ],
   "source": [
    "print(f'Total number of records: {len(df)}')"
   ]
  },
  {
   "cell_type": "markdown",
   "id": "f82c0d7c",
   "metadata": {},
   "source": [
    "# Splitting Files into Year and Month"
   ]
  },
  {
   "cell_type": "code",
   "execution_count": 10,
   "id": "d7f8f114",
   "metadata": {},
   "outputs": [],
   "source": [
    "df['Year'] = df['date'].apply(lambda x: x.split('-')[0])\n",
    "df['Month'] = df['date'].apply(lambda x: x.split('-')[1])"
   ]
  },
  {
   "cell_type": "code",
   "execution_count": 11,
   "id": "740bb454",
   "metadata": {},
   "outputs": [
    {
     "data": {
      "text/plain": [
       "({'2021', '2022'},\n",
       " {'01', '02', '03', '04', '05', '06', '07', '08', '09', '10', '11', '12'})"
      ]
     },
     "execution_count": 11,
     "metadata": {},
     "output_type": "execute_result"
    }
   ],
   "source": [
    "set(df['Year']), set(df['Month'])"
   ]
  },
  {
   "cell_type": "code",
   "execution_count": 12,
   "id": "2ed62bc2",
   "metadata": {},
   "outputs": [
    {
     "name": "stderr",
     "output_type": "stream",
     "text": [
      "/tmp/ipykernel_19854/2156608742.py:4: UserWarning: Boolean Series key will be reindexed to match DataFrame index.\n",
      "  df.loc[df.Year == i][df.Month == j].to_csv(filename,index=False,columns=cols)\n"
     ]
    }
   ],
   "source": [
    "for i in set(df.Year): \n",
    "    for j in set(df.Month):\n",
    "        filename = \"liquor_\"+i+\"_\"+j+\".csv\"\n",
    "        df.loc[df.Year == i][df.Month == j].to_csv(filename,index=False,columns=cols)"
   ]
  },
  {
   "cell_type": "markdown",
   "id": "4fa82193",
   "metadata": {},
   "source": [
    "# Verifying that the total number of records matches that in the split files"
   ]
  },
  {
   "cell_type": "code",
   "execution_count": 13,
   "id": "e1f3e888",
   "metadata": {},
   "outputs": [
    {
     "name": "stdout",
     "output_type": "stream",
     "text": [
      "Total number of records in split files: 2805161\n"
     ]
    }
   ],
   "source": [
    "total_df = 0\n",
    "for i in set(df.Year): \n",
    "    for j in set(df.Month):\n",
    "        filename = \"liquor_\"+i+\"_\"+j+\".csv\"\n",
    "        temp_df = pd.read_csv(filename)\n",
    "        len_df = len(temp_df)\n",
    "        if len_df == 0:\n",
    "            os.remove(filename)\n",
    "        total_df += len_df\n",
    "print(f'Total number of records in split files: {total_df}')"
   ]
  }
 ],
 "metadata": {
  "kernelspec": {
   "display_name": "default",
   "language": "python",
   "name": "default"
  },
  "language_info": {
   "codemirror_mode": {
    "name": "ipython",
    "version": 3
   },
   "file_extension": ".py",
   "mimetype": "text/x-python",
   "name": "python",
   "nbconvert_exporter": "python",
   "pygments_lexer": "ipython3",
   "version": "3.8.12"
  }
 },
 "nbformat": 4,
 "nbformat_minor": 5
}
